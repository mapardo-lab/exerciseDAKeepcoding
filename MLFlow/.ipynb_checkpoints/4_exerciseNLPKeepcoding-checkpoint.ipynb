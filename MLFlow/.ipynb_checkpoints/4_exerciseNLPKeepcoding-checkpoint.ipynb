{
 "cells": [
  {
   "cell_type": "markdown",
   "metadata": {
    "id": "BMiInDhFUUhW"
   },
   "source": [
    "## Best model and conclusions"
   ]
  },
  {
   "cell_type": "markdown",
   "metadata": {
    "id": "fm2NRDIAqEzI"
   },
   "source": [
    "## Environment setup"
   ]
  },
  {
   "cell_type": "code",
   "execution_count": null,
   "metadata": {
    "colab": {
     "base_uri": "https://localhost:8080/"
    },
    "executionInfo": {
     "elapsed": 1087,
     "status": "ok",
     "timestamp": 1750861738700,
     "user": {
      "displayName": "Miguel Angel Pardo",
      "userId": "16900940354237523056"
     },
     "user_tz": -120
    },
    "id": "IQl1rr6FSpKO",
    "outputId": "eaf6f0ec-4962-4e5f-9b03-599e417a969b"
   },
   "outputs": [
    {
     "name": "stdout",
     "output_type": "stream",
     "text": [
      "Drive already mounted at /content/drive/; to attempt to forcibly remount, call drive.mount(\"/content/drive/\", force_remount=True).\n"
     ]
    }
   ],
   "source": [
    "from google.colab import drive\n",
    "drive.mount('/content/drive/')"
   ]
  },
  {
   "cell_type": "code",
   "execution_count": null,
   "metadata": {
    "id": "ysmWbEeS5h5o"
   },
   "outputs": [],
   "source": [
    "WORKING_PATH = '/content/drive/MyDrive/KeepCoding/NLP/exercise'\n"
   ]
  },
  {
   "cell_type": "code",
   "execution_count": null,
   "metadata": {
    "colab": {
     "base_uri": "https://localhost:8080/"
    },
    "executionInfo": {
     "elapsed": 9,
     "status": "ok",
     "timestamp": 1750861738712,
     "user": {
      "displayName": "Miguel Angel Pardo",
      "userId": "16900940354237523056"
     },
     "user_tz": -120
    },
    "id": "TF0i-O5oTIwc",
    "outputId": "0b046313-9790-4956-a277-0309c1d29800"
   },
   "outputs": [
    {
     "name": "stdout",
     "output_type": "stream",
     "text": [
      "/content/drive/MyDrive/KeepCoding/NLP/exercise\n"
     ]
    }
   ],
   "source": [
    "%cd {WORKING_PATH}"
   ]
  },
  {
   "cell_type": "code",
   "execution_count": null,
   "metadata": {
    "id": "T4InpvkuquUm"
   },
   "outputs": [],
   "source": [
    "!pip install -r requirements.tx"
   ]
  },
  {
   "cell_type": "code",
   "execution_count": null,
   "metadata": {
    "id": "NSKbPus5P6b0"
   },
   "outputs": [],
   "source": [
    "import sys\n",
    "import os\n",
    "import pandas as pd\n",
    "import numpy as np\n",
    "from sklearn.metrics import classification_report,confusion_matrix\n",
    "from sklearn.svm import SVC\n",
    "import joblib\n"
   ]
  },
  {
   "cell_type": "code",
   "execution_count": null,
   "metadata": {
    "id": "hqibiYKAE_ta"
   },
   "outputs": [],
   "source": [
    "# to load custom libraries\n",
    "sys.path.append(WORKING_PATH)\n",
    "\n",
    "# load custom libraries"
   ]
  },
  {
   "cell_type": "markdown",
   "metadata": {
    "id": "K9AG8BWjhN85"
   },
   "source": [
    "### Train and test best model"
   ]
  },
  {
   "cell_type": "markdown",
   "metadata": {
    "id": "-uUkqo2dzrS7"
   },
   "source": [
    "Two models were considered for the data analysis: Support Vector Machine (SVM) and Random Forest. The best model with the optimal parameter combination was identified through cross-validation. The best-performing model was a linear-kernel SVM with a value of one for the regularization parameter (C). This model was retrained on the full training dataset using these parameters and subsequently evaluated on the test dataset."
   ]
  },
  {
   "cell_type": "code",
   "execution_count": null,
   "metadata": {
    "colab": {
     "base_uri": "https://localhost:8080/"
    },
    "executionInfo": {
     "elapsed": 161,
     "status": "ok",
     "timestamp": 1750864793149,
     "user": {
      "displayName": "Miguel Angel Pardo",
      "userId": "16900940354237523056"
     },
     "user_tz": -120
    },
    "id": "JlNebt0miWYE",
    "outputId": "2b1a811a-f7d9-44b5-e98d-0d844f72dbb3"
   },
   "outputs": [
    {
     "name": "stdout",
     "output_type": "stream",
     "text": [
      "Read data to train model from cache file: train_model_data.pkl\n"
     ]
    }
   ],
   "source": [
    "# read data for training the model\n",
    "cache_dir = \"cache\"\n",
    "cache_file_train = \"train_model_data.pkl\"\n",
    "try:\n",
    "  with open(os.path.join(cache_dir, cache_file_train), \"rb\") as f:\n",
    "            cache_data = joblib.load(f)\n",
    "  print(\"Read data to train model from cache file:\", cache_file_train)\n",
    "except:\n",
    "  pass\n",
    "\n",
    "X_train = cache_data['X_train']\n",
    "X_test = cache_data['X_test']\n",
    "y_train = cache_data['y_train']\n",
    "y_test = cache_data['y_test']"
   ]
  },
  {
   "cell_type": "code",
   "execution_count": null,
   "metadata": {
    "colab": {
     "base_uri": "https://localhost:8080/"
    },
    "executionInfo": {
     "elapsed": 45488,
     "status": "ok",
     "timestamp": 1750864852946,
     "user": {
      "displayName": "Miguel Angel Pardo",
      "userId": "16900940354237523056"
     },
     "user_tz": -120
    },
    "id": "oB17_cyrhjE7",
    "outputId": "aae616af-d6b4-4354-f295-f2d601028900"
   },
   "outputs": [
    {
     "name": "stdout",
     "output_type": "stream",
     "text": [
      "[[ 558 1573]\n",
      " [  89 7734]]\n",
      "              precision    recall  f1-score   support\n",
      "\n",
      "           0       0.86      0.26      0.40      2131\n",
      "           1       0.83      0.99      0.90      7823\n",
      "\n",
      "    accuracy                           0.83      9954\n",
      "   macro avg       0.85      0.63      0.65      9954\n",
      "weighted avg       0.84      0.83      0.80      9954\n",
      "\n"
     ]
    }
   ],
   "source": [
    "# train model\n",
    "final_model = SVC(C=1, kernel=\"linear\").fit(X_train,y_train)\n",
    "predict_train = final_model.predict(X_train)\n",
    "\n",
    "print(confusion_matrix(y_train, predict_train))\n",
    "print(classification_report(y_train, predict_train))"
   ]
  },
  {
   "cell_type": "code",
   "execution_count": null,
   "metadata": {
    "colab": {
     "base_uri": "https://localhost:8080/"
    },
    "executionInfo": {
     "elapsed": 5171,
     "status": "ok",
     "timestamp": 1750864883377,
     "user": {
      "displayName": "Miguel Angel Pardo",
      "userId": "16900940354237523056"
     },
     "user_tz": -120
    },
    "id": "c78jKkMqhjE9",
    "outputId": "5776a0ff-4b9e-4d07-e539-f70b5fbdc6bb"
   },
   "outputs": [
    {
     "name": "stdout",
     "output_type": "stream",
     "text": [
      "[[ 161  559]\n",
      " [  31 2567]]\n",
      "              precision    recall  f1-score   support\n",
      "\n",
      "           0       0.84      0.22      0.35       720\n",
      "           1       0.82      0.99      0.90      2598\n",
      "\n",
      "    accuracy                           0.82      3318\n",
      "   macro avg       0.83      0.61      0.62      3318\n",
      "weighted avg       0.82      0.82      0.78      3318\n",
      "\n"
     ]
    }
   ],
   "source": [
    "# test model\n",
    "predict_test = final_model.predict(X_test)\n",
    "\n",
    "print(confusion_matrix(y_test, predict_test))\n",
    "print(classification_report(y_test, predict_test))"
   ]
  },
  {
   "cell_type": "markdown",
   "metadata": {
    "id": "34Atam6v2AkD"
   },
   "source": [
    "Precision scores are similar for both classes, exceeding 0.80. Notably, recall for negative reviews (the minority class) is significantly lower. This occurs because many negative reviews are misclassified by the model, likely due to insufficient representation of this class in the training data.\n",
    "\n",
    "To address this, it would be necessary to identify features that are most predictive of minority-class reviews. One potential approach would be to relax the p-value threshold and retain more features during selection. This strategy might provide additional discriminative information to improve recall for the minority class.\n",
    "\n",
    "All metrics show comparable performance between training and test sets, ruling out overfitting concerns."
   ]
  }
 ],
 "metadata": {
  "colab": {
   "authorship_tag": "ABX9TyMmi8ce8hOHByMdr3R9KVAV",
   "provenance": []
  },
  "kernelspec": {
   "display_name": "Python 3 (ipykernel)",
   "language": "python",
   "name": "python3"
  },
  "language_info": {
   "codemirror_mode": {
    "name": "ipython",
    "version": 3
   },
   "file_extension": ".py",
   "mimetype": "text/x-python",
   "name": "python",
   "nbconvert_exporter": "python",
   "pygments_lexer": "ipython3",
   "version": "3.10.18"
  }
 },
 "nbformat": 4,
 "nbformat_minor": 4
}
